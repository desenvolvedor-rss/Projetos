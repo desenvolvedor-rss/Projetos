{
  "nbformat": 4,
  "nbformat_minor": 0,
  "metadata": {
    "colab": {
      "name": "Aula04_Exercicios.ipynb.txt",
      "provenance": [],
      "collapsed_sections": [],
      "include_colab_link": true
    },
    "kernelspec": {
      "name": "python3",
      "display_name": "Python 3"
    },
    "language_info": {
      "name": "python"
    }
  },
  "cells": [
    {
      "cell_type": "markdown",
      "metadata": {
        "id": "view-in-github",
        "colab_type": "text"
      },
      "source": [
        "<a href=\"https://colab.research.google.com/github/coke-leste1/Projetos/blob/main/Aula04_Exercicios_ipynb_txt.ipynb\" target=\"_parent\"><img src=\"https://colab.research.google.com/assets/colab-badge.svg\" alt=\"Open In Colab\"/></a>"
      ]
    },
    {
      "cell_type": "markdown",
      "metadata": {
        "id": "DptQTkwqN7v9"
      },
      "source": [
        "# Exercícios de Aquecimento\n",
        "\n",
        "## Exercício 01\n",
        "Elabore um programa que imprima na tela a seguinte frase `Olá Mundo! Esse é o meu primeiro programa`"
      ]
    },
    {
      "cell_type": "code",
      "metadata": {
        "id": "aS76-cS0VFqz"
      },
      "source": [
        ""
      ],
      "execution_count": null,
      "outputs": []
    },
    {
      "cell_type": "code",
      "metadata": {
        "id": "uqo9BGsgQuaG"
      },
      "source": [
        ""
      ],
      "execution_count": null,
      "outputs": []
    },
    {
      "cell_type": "code",
      "metadata": {
        "id": "fu-Hvxg7OT64",
        "colab": {
          "base_uri": "https://localhost:8080/"
        },
        "outputId": "cd1c9f32-7b39-48d5-926e-1fc792c6e462"
      },
      "source": [
        "print (\"Olá Mundo! Esse é o meu primeiro programa\")"
      ],
      "execution_count": null,
      "outputs": [
        {
          "output_type": "stream",
          "text": [
            "Olá Mundo! Esse é o meu primeiro programa\n"
          ],
          "name": "stdout"
        }
      ]
    },
    {
      "cell_type": "markdown",
      "metadata": {
        "id": "HYnPLbl2OfuE"
      },
      "source": [
        "## Exercício 02\n",
        "Elabore um programa que escreve seu nome completo na primeira linha, seu endereço na segunda e o CEP e telefone na terceira.  \n",
        "\n",
        "**Exemplo:**\n",
        "```\n",
        "Nome: Bruno Fabri\n",
        "Endereço: Rua ABC\n",
        "CEP: 002220-010\n",
        "```"
      ]
    },
    {
      "cell_type": "code",
      "metadata": {
        "id": "sUrmuOzbO5Cd",
        "colab": {
          "base_uri": "https://localhost:8080/"
        },
        "outputId": "8462f261-3a10-4d41-ea0f-ebdf4b86de14"
      },
      "source": [
        "# Procedimentos para quebra de linha \\n ou ''' antes de depois - Comando print pode pular linha se digitado sem valor\n",
        "\n",
        "print (\"Bruno Fabri\\nRua ABC\\n002220-010 \")\n",
        "print ('''Bruno Fabri\n",
        "Rua ABC\n",
        "002220-010''')\n"
      ],
      "execution_count": null,
      "outputs": [
        {
          "output_type": "stream",
          "text": [
            "Bruno Fabri\n",
            "Rua ABC\n",
            "002220-010 \n",
            "Bruno Fabri\n",
            "Rua ABC\n",
            "002220-010\n"
          ],
          "name": "stdout"
        }
      ]
    },
    {
      "cell_type": "markdown",
      "metadata": {
        "id": "deXHRhdZ3sOX"
      },
      "source": [
        ""
      ]
    },
    {
      "cell_type": "markdown",
      "metadata": {
        "id": "5XVY0cvwP1WX"
      },
      "source": [
        "## Exercício 03\n",
        "Elabore um programa que recebe o nome de uma pessoa do terminal e mostra a seguinte mensagem: `Olá {nome}! Seja bem vindo ao fantástico mundo da programação`"
      ]
    },
    {
      "cell_type": "code",
      "metadata": {
        "id": "VDfwe6OSQM0M",
        "colab": {
          "base_uri": "https://localhost:8080/",
          "height": 265
        },
        "outputId": "df539358-d3a1-4654-cd91-b8901c2fb050"
      },
      "source": [
        "# exemplo de utilização do comando input e concatenação\n",
        "\n",
        "nome = input(\"Digite seu nome\")\n",
        "print (\"Olá\", nome, \"Seja bem vindo ao fantástico mundo da programação\")\n",
        "print (f\"Olá {nome}! Seja bem vindo ao fantástico mundo da programação\")\n",
        "\n",
        "print (\"Olá {}! Seja bem vindo ao fantástico mundo da programação\".replace(\"{}\"))\n",
        "\n"
      ],
      "execution_count": null,
      "outputs": [
        {
          "output_type": "stream",
          "text": [
            "Digite seu nomeRicardo\n",
            "Olá Ricardo Seja bem vindo ao fantástico mundo da programação\n",
            "Olá Ricardo! Seja bem vindo ao fantástico mundo da programação\n"
          ],
          "name": "stdout"
        },
        {
          "output_type": "error",
          "ename": "TypeError",
          "evalue": "ignored",
          "traceback": [
            "\u001b[0;31m---------------------------------------------------------------------------\u001b[0m",
            "\u001b[0;31mTypeError\u001b[0m                                 Traceback (most recent call last)",
            "\u001b[0;32m<ipython-input-18-dd8f7d91e0bf>\u001b[0m in \u001b[0;36m<module>\u001b[0;34m()\u001b[0m\n\u001b[1;32m      5\u001b[0m \u001b[0mprint\u001b[0m \u001b[0;34m(\u001b[0m\u001b[0;34mf\"Olá {nome}! Seja bem vindo ao fantástico mundo da programação\"\u001b[0m\u001b[0;34m)\u001b[0m\u001b[0;34m\u001b[0m\u001b[0;34m\u001b[0m\u001b[0m\n\u001b[1;32m      6\u001b[0m \u001b[0;34m\u001b[0m\u001b[0m\n\u001b[0;32m----> 7\u001b[0;31m \u001b[0mprint\u001b[0m \u001b[0;34m(\u001b[0m\u001b[0;34m\"Olá {}! Seja bem vindo ao fantástico mundo da programação\"\u001b[0m\u001b[0;34m.\u001b[0m\u001b[0mreplace\u001b[0m\u001b[0;34m(\u001b[0m\u001b[0;34m\"{}\"\u001b[0m\u001b[0;34m)\u001b[0m\u001b[0;34m)\u001b[0m\u001b[0;34m\u001b[0m\u001b[0;34m\u001b[0m\u001b[0m\n\u001b[0m\u001b[1;32m      8\u001b[0m \u001b[0;34m\u001b[0m\u001b[0m\n",
            "\u001b[0;31mTypeError\u001b[0m: replace() takes at least 2 arguments (1 given)"
          ]
        }
      ]
    },
    {
      "cell_type": "markdown",
      "metadata": {
        "id": "1Nb29agVQc3k"
      },
      "source": [
        "## Exercício 04\n",
        "Elabore um programa que recebe dois valores inteiros e mostra a soma desses valores\n",
        "\n",
        "**Exemplo:**\n",
        "\n",
        "```\n",
        "Primeiro Valor = 2\n",
        "Segundo Valor = 3\n",
        "Soma = 5\n",
        "```"
      ]
    },
    {
      "cell_type": "code",
      "metadata": {
        "id": "a6_BwVwRROmH",
        "colab": {
          "base_uri": "https://localhost:8080/"
        },
        "outputId": "3ca0cae4-6211-461a-a3ce-e95d75d905a9"
      },
      "source": [
        "# uso da variavel int e float \"float(input(\"Digite o primeiro valor:\"))\"\n",
        "\n",
        "numero1 = float(input(\"Digite o primeiro valor:\"))\n",
        "numero2 = float(input(\"Digite o segundo valor:\"))\n",
        "soma = numero1 + numero2\n",
        "print (\"Soma =\", soma)\n"
      ],
      "execution_count": null,
      "outputs": [
        {
          "output_type": "stream",
          "text": [
            "Digite o primeiro valor:2\n",
            "Digite o segundo valor:3\n",
            "Soma = 5.0\n"
          ],
          "name": "stdout"
        }
      ]
    },
    {
      "cell_type": "markdown",
      "metadata": {
        "id": "4HQxR3FTTbSr"
      },
      "source": [
        "## Exercício 05\n",
        "Elabore um programa que recebe dois valores inteiros e mostra se o primeiro valor é maior ou igual ao segundo valor\n",
        "\n",
        "**Exemplo:**\n",
        "```\n",
        "Primeiro Valor = 3\n",
        "Segundo Valor = 2\n",
        "Resultado = True\n",
        "```"
      ]
    },
    {
      "cell_type": "code",
      "metadata": {
        "id": "OXISQASdTeSW",
        "colab": {
          "base_uri": "https://localhost:8080/"
        },
        "outputId": "cdb2edf5-6192-4599-fb86-dd5779537e1d"
      },
      "source": [
        "#Comparação de valores com \n",
        "\n",
        "numero1 = int(input(\"Digite o primeiro valor:\"))\n",
        "numero2 = int(input(\"Digite o segundo valor:\"))\n",
        "print(numero1 >= numero2)\n",
        "print(numero1 < numero2)\n",
        "print(numero1 != numero2)\n",
        "print(numero1 == numero2)\n"
      ],
      "execution_count": null,
      "outputs": [
        {
          "output_type": "stream",
          "text": [
            "Digite o primeiro valor:23\n",
            "Digite o segundo valor:23\n",
            "True\n",
            "False\n",
            "False\n",
            "True\n"
          ],
          "name": "stdout"
        }
      ]
    },
    {
      "cell_type": "markdown",
      "metadata": {
        "id": "Gn8rHPn3UCnc"
      },
      "source": [
        "## Exercício 06\n",
        "Elabore um programa que recebe o seu nome, endereço e hobby e mostra cada uma das informações da seguinte forma:\n",
        "- Nome -> Letra maiúscula\n",
        "- Endereço -> Letra minúscula\n",
        "- Hobby -> Primeira letra maiúscula\n",
        "\n",
        "**Exemplo Entrada:**\n",
        "```\n",
        "Nome: bruno fabri\n",
        "Endereço: Rua ABC\n",
        "Hobby: jogar cs\n",
        "```\n",
        "\n",
        "**Exemplo Saída:**\n",
        "```\n",
        "Nome: BRUNO FABRI\n",
        "Endereço: rua abc\n",
        "Hobby: Jogar cs\n",
        "```"
      ]
    },
    {
      "cell_type": "code",
      "metadata": {
        "id": "ZIj-PGVZVVP6",
        "colab": {
          "base_uri": "https://localhost:8080/"
        },
        "outputId": "accda5bb-f974-4861-c55a-720c5ad9134a"
      },
      "source": [
        "nome = input(\"Digite seu nome: \")\n",
        "endereco = input(\"Digite seu endereço: \")\n",
        "hobby = input(\"Digite seu hobby: \")\n",
        "print(nome.upper())\n",
        "print(nome.lower())\n",
        "print(nome.title())\n",
        "print(nome.capitalize())\n",
        "\n",
        "\n",
        "nome = input('Digite seu nome').upper().lower #outra forma de inserir upper\n"
      ],
      "execution_count": null,
      "outputs": [
        {
          "output_type": "stream",
          "text": [
            "Digite seu nomeRicardo\n",
            "Digite seu endereçoRua ta\n",
            "Digite seu hobbyCinemo\n",
            "RICARDO\n",
            "ricardo\n",
            "Ricardo\n",
            "Ricardo\n"
          ],
          "name": "stdout"
        }
      ]
    },
    {
      "cell_type": "markdown",
      "metadata": {
        "id": "wlvmEAPQNrcL"
      },
      "source": [
        "# Mini Projetos"
      ]
    },
    {
      "cell_type": "markdown",
      "metadata": {
        "id": "W8zwueNBKh4B"
      },
      "source": [
        ""
      ]
    },
    {
      "cell_type": "code",
      "metadata": {
        "id": "mRQ9fpIgMp5Z",
        "colab": {
          "base_uri": "https://localhost:8080/"
        },
        "outputId": "27dd7e75-3355-4cbd-ac03-d0f01693fa16"
      },
      "source": [
        "\n",
        "\n",
        "valorDolar = float(input(\"Digite valor do Real:\"))\n",
        "valorReal = float(\"5.75\")\n",
        "resultado = valorDolar / valorReal\n",
        "print(\"valor em $: {0:.2f}\".format(resultado))\n",
        "\n",
        "\n",
        "\n",
        "\n",
        "valorReal = float(input(\"Digite valor do Dolar:\"))\n",
        "valorDolar = float(\"5.75\")\n",
        "resultado = valorReal * valorDolar\n",
        "print(\"valor em $: {0:.2f}\".format(resultado))\n"
      ],
      "execution_count": null,
      "outputs": [
        {
          "output_type": "stream",
          "text": [
            "Digite valor do Real:1000\n",
            "valor em $: 173.91\n",
            "Digite valor do Dolar:1000\n",
            "valor em $: 5750.00\n"
          ],
          "name": "stdout"
        }
      ]
    },
    {
      "cell_type": "markdown",
      "metadata": {
        "id": "0NmAiF2DV_ju"
      },
      "source": [
        "## Mini Projeto 02 - Calculadora de aumento de aluguel\n",
        "Vamos construir um programa que irá calcular o aumento anual do seu aluguel em duas partes:\n",
        "\n",
        "### Parte 1\n",
        "A sua calculadora vai receber o `valor do aluguel` e calcular o aumento baseado no `IGPM de 31%`. A calculadora deve apresentar o aluguel reajustado no formato `R$ XXXX.XX`\n",
        "\n",
        "**Exemplo:**\n",
        "```\n",
        "Valor do aluguel = 1000\n",
        "Valor do aluguel reajustado = R$ 1310,00\n",
        "```\n",
        "\n",
        "### Parte 2\n",
        "Agora, altere sua calculadora para receber além do `valor do aluguel`, o percentual do reajuste no formato `XX%`.  \n",
        "\n",
        "**Dica:** Descubra uma forma de transformar o percentual recebido em um número para efetuar o cálculo.\n",
        "\n",
        "**Exemplo:**\n",
        "```\n",
        "Valor do aluguel = 1000\n",
        "Percentual do reajuste = 31%\n",
        "Valor do aluguel reajustado = R% 1310,00\n",
        "```"
      ]
    },
    {
      "cell_type": "code",
      "metadata": {
        "id": "0eHzSCyaGkYJ",
        "colab": {
          "base_uri": "https://localhost:8080/"
        },
        "outputId": "362f86b0-b5eb-4c32-e9d3-d3f7610e1dc9"
      },
      "source": [
        "valorAluguel = float(input(\"Digite o valor do aluguel: \"))\n",
        "percentual = float(0.31)\n",
        "resultado = valorAluguel * percentual\n",
        "print(\"Resultado:\", resultado + valorAluguel)\n",
        "\n",
        "valorAluguel = float(input(\"Digite o valor do aluguel: \"))\n",
        "valorPercentual = float(input(\"Digite o Percentual: \"))\n",
        "resultado = valorAluguel + (valorAluguel * (valorPercentual /100) )\n",
        "print(\"Resultado: = {0:.2f}\" .format(resultado))\n",
        "\n",
        "\n",
        "\n"
      ],
      "execution_count": null,
      "outputs": [
        {
          "output_type": "stream",
          "text": [
            "Digite o valor do aluguel: 1000\n",
            "Resultado: 1310.0\n",
            "Digite o valor do aluguel: 1000\n",
            "Digite o Percentual: 31\n",
            "Resultado: = 1310.00\n"
          ],
          "name": "stdout"
        }
      ]
    },
    {
      "cell_type": "markdown",
      "metadata": {
        "id": "xN88sUuMOG46"
      },
      "source": [
        "## Mini Projeto 03 - Calculadora de dano\n",
        "Vamos implementar a calculadora de dano de RPG!!\n",
        "\n",
        "### Parte 1\n",
        "O programa vai receber a `vida e um monstro (entre 10 e 50)` e o `valor do ataque do jogador por turno (entre 5 e 10)`\n",
        "\n",
        "Baseado nos valores, exiba a quantidade de turnos que o jogador irá demorar para conseguir derrotar o monstro.\n",
        "\n",
        "**Exemplo:**\n",
        "```\n",
        "Vida de um monstro (entre 10 e 50): 26\n",
        "Valor do ataque do jogador por turno (entre 5 e 10): 5\n",
        "Resultado: O jogador irá precisar de 6 turnos para derrotar o monstro.\n",
        "```\n",
        "\n",
        "### Parte 2\n",
        "Altere o programa para ao invés de receber a vida do monstro, gerar aleatoriamente um valor entre 10 e 50."
      ]
    },
    {
      "cell_type": "code",
      "metadata": {
        "id": "Mrpz9UomQH2P",
        "colab": {
          "base_uri": "https://localhost:8080/"
        },
        "outputId": "8b767c14-4d17-4eb2-d0f3-ab2d987bf535"
      },
      "source": [
        "vidaMonstro = int(input(\"Digite a vide do monsrto de 10 a 50: \"))\n",
        "valorAtaque = int(input(\"Digite o valor do ataque entre 5 e 10: \"))"
      ],
      "execution_count": null,
      "outputs": [
        {
          "output_type": "stream",
          "text": [
            "Digite a vide do monsrto de 10 a 5012\n",
            "Digite o valor do ataque entre 5 e 1050\n"
          ],
          "name": "stdout"
        }
      ]
    },
    {
      "cell_type": "markdown",
      "metadata": {
        "id": "_Z2OXk53QxRK"
      },
      "source": [
        ""
      ]
    },
    {
      "cell_type": "code",
      "metadata": {
        "colab": {
          "base_uri": "https://localhost:8080/"
        },
        "id": "geF8xsQZQx3V",
        "outputId": "911de9d1-05a4-4022-ab8a-c2a6e4caea00"
      },
      "source": [
        "num1 = int(input(\"Digite o primeiro número: \"))\n",
        "num2 = int(input(\"Digite o segundo número: \"))\n",
        "num3 = int(input(\"Digite o terceiro número: \"))\n",
        "\n",
        "if num1 > num2:\n",
        " if num1 > num3:\n",
        "  print (\"O número maior é \", num1)\n",
        "if num2 > num1:\n",
        " if num2 > num3:\n",
        "  print (\"O número maior é \", num2)\n",
        "if num3 > num1:\n",
        " if num3 > num2:\n",
        "  print(\"O número maior é \", num3)\n",
        "\n",
        "if num1 < num2:\n",
        " if num1 < num3:\n",
        "  print (\"O número menor é \", num1)\n",
        "if num2 < num1:\n",
        " if num2 < num3:\n",
        "  print (\"O número menor é \", num2)\n",
        "if num3 < num1:\n",
        " if num3 < num2:\n",
        "  print(\"O número menor é \", num3)\n"
      ],
      "execution_count": null,
      "outputs": [
        {
          "output_type": "stream",
          "text": [
            "Digite o primeiro número: 1\n",
            "Digite o segundo número: 2\n",
            "Digite o terceiro número: 3\n",
            "O número maior é  3\n",
            "O número menor é  1\n"
          ],
          "name": "stdout"
        }
      ]
    },
    {
      "cell_type": "code",
      "metadata": {
        "colab": {
          "base_uri": "https://localhost:8080/"
        },
        "id": "whzhqrSvT-x_",
        "outputId": "540a55d6-52e1-403c-f052-0162bea17850"
      },
      "source": [
        "num1 = float(input(\"Digite o primeiro número: \"))\n",
        "num2 = float(input(\"Digite o segundo número: \"))\n",
        "if num1 > num2:\n",
        "  print (\"O maior número é \", num1)\n",
        "else:\n",
        "  print (\"O maior número é \", num2)\n"
      ],
      "execution_count": null,
      "outputs": [
        {
          "output_type": "stream",
          "text": [
            "Digite o primeiro número: 2\n",
            "Digite o segundo número: 4\n",
            "O maior número é  4.0\n"
          ],
          "name": "stdout"
        }
      ]
    },
    {
      "cell_type": "code",
      "metadata": {
        "id": "K5ceqKazWcmP",
        "colab": {
          "base_uri": "https://localhost:8080/"
        },
        "outputId": "55bf03f1-927d-4aa5-bf34-f633d6199d6d"
      },
      "source": [
        "genero = input(\"Digite F para Feminino - M para Masculino: \")\n",
        "if genero == \"f\":\n",
        "   print(\"F - Feminino\")\n",
        "elif genero == \"F\":\n",
        "   print(\"F - Feminino\")\n",
        "elif genero == \"m\":\n",
        "    print(\"M - Masculino\")\n",
        "elif genero == \"M\":\n",
        "    print(\"M - Masculino\")\n",
        "else:\n",
        "  print(\"Sexo Inválido\")\n"
      ],
      "execution_count": null,
      "outputs": [
        {
          "output_type": "stream",
          "text": [
            "Digite F para Feminino - M para Masculino: d\n",
            "Sexo Inválido\n"
          ],
          "name": "stdout"
        }
      ]
    },
    {
      "cell_type": "code",
      "metadata": {
        "id": "O5YY8QeEm15u",
        "colab": {
          "base_uri": "https://localhost:8080/"
        },
        "outputId": "e2888f39-0eed-4cfc-dfef-5fd1713983f6"
      },
      "source": [
        "valor = float(input(\"Digite um valor para positivo ou negativo: \"))\n",
        "if valor >=0:\n",
        "  print(\"Esse valor é positivo!\")\n",
        "else:\n",
        "    print(\"Esse valor é negativo!\")\n"
      ],
      "execution_count": null,
      "outputs": [
        {
          "output_type": "stream",
          "text": [
            "Digite um valor para positivo ou negativo: -3\n",
            "Esse valor é negativo!\n"
          ],
          "name": "stdout"
        }
      ]
    },
    {
      "cell_type": "code",
      "metadata": {
        "colab": {
          "base_uri": "https://localhost:8080/"
        },
        "id": "2X2PQCqv30Em",
        "outputId": "8c694a0c-6972-49ae-f47b-f3879b56f63b"
      },
      "source": [
        "nota = float(input(\"Digite a nota do aluno entre 0 e 10\"))\n",
        "if nota < 6:\n",
        "  print(\"Nota F\")\n",
        "elif 6.0 <= nota <= 7.0:\n",
        "  print(\"Nota D\")\n",
        "elif 7.1 <= nota <= 8.0:\n",
        "  print(\"Nota C\")\n",
        "elif 8.1 <= nota <= 9.0:\n",
        "  print(\"Nota B\")\n",
        "elif 9.1 <= nota <= 10.0:\n",
        "  print(\"Nota A\")\n",
        "else:\n",
        "  print(\"Nota inválida!\")"
      ],
      "execution_count": null,
      "outputs": [
        {
          "output_type": "stream",
          "text": [
            "Digite a nota do aluno entre 0 e 10 9.1\n",
            "Nota A\n"
          ],
          "name": "stdout"
        }
      ]
    },
    {
      "cell_type": "code",
      "metadata": {
        "colab": {
          "base_uri": "https://localhost:8080/"
        },
        "id": "oanFSumD8mIS",
        "outputId": "92c05e5a-c268-4aa2-bb9d-fa28d46425d8"
      },
      "source": [
        "letra = (input(\"Digite uma vogal ou consoante: \"))\n",
        "\n",
        "if letra == \"a\":\n",
        "  print(\"É uma vogal\")\n",
        "  if letra == \"A\":\n",
        "    print(\"É uma vogal\")\n",
        "elif letra == \"e\":\n",
        "  print(\"É uma vogal\")\n",
        "elif letra == \"E\":\n",
        "  print(\"É uma vogal\")\n",
        "elif letra == \"i\":\n",
        "  print(\"É uma vogal\")\n",
        "elif letra == \"I\":\n",
        "  print(\"É uma vogal\")\n",
        "elif letra == \"o\":\n",
        "  print(\"É uma vogal\")\n",
        "elif letra == \"O\":\n",
        "  print(\"É uma vogal\")\n",
        "elif letra == \"u\":\n",
        "  print(\"É uma vogal\")\n",
        "elif letra == \"U\":\n",
        "  print(\"É uma vogal\")\n",
        "else:\n",
        "  print(\"É uma consoante: \")\n"
      ],
      "execution_count": null,
      "outputs": [
        {
          "output_type": "stream",
          "text": [
            "Digite uma vogal ou consoante: t\n",
            "É uma consoante: \n"
          ],
          "name": "stdout"
        }
      ]
    },
    {
      "cell_type": "code",
      "metadata": {
        "colab": {
          "base_uri": "https://localhost:8080/"
        },
        "id": "-QxDCKjJATKb",
        "outputId": "6d74f135-8d50-45f3-af53-3d5e55a081fa"
      },
      "source": [
        "p1 = input(\"Medieval ou Futurista, digite: \")\n",
        "if p1.upper() == \"MEDIEVAL\":\n",
        "  print(\"Espada\")    \n",
        "elif p1.upper() == \"FUTURISTA\":\n",
        "  print(\"Sabre de luz\")\n",
        "else:\n",
        "  print(\"Tente novamente!\")"
      ],
      "execution_count": null,
      "outputs": [
        {
          "output_type": "stream",
          "text": [
            "Medieval ou Futurista, digite: cava\n",
            "Tente novamente!\n"
          ],
          "name": "stdout"
        }
      ]
    },
    {
      "cell_type": "code",
      "metadata": {
        "id": "9QP3gvk4E8CN"
      },
      "source": [
        ""
      ],
      "execution_count": null,
      "outputs": []
    },
    {
      "cell_type": "code",
      "metadata": {
        "colab": {
          "base_uri": "https://localhost:8080/"
        },
        "id": "Xhjxrq1iE8kn",
        "outputId": "560a7045-5030-4cbb-b0d3-39d4f48d04f9"
      },
      "source": [
        "cp1 = input(\"Digite espada ou sabre para atacar: \")\n",
        "if cp1.upper() == \"ESPADA\":\n",
        "  print(\"VOCÊ AINDA NÃO MATOU O CHEFÃO\")\n",
        "elif cp1.upper() == \"SABRE\":\n",
        "  print(\"VOCÊ DERROTOU O CHEFÃO COM O SABRE DE LUZ\")\n",
        "else:\n",
        "  print(\"ATAQUE NOVAMENTE\")"
      ],
      "execution_count": null,
      "outputs": [
        {
          "output_type": "stream",
          "text": [
            "Digite espada ou sabre para atacar: Canhap\n",
            "ATAQUE NOVAMENTE\n"
          ],
          "name": "stdout"
        }
      ]
    },
    {
      "cell_type": "code",
      "metadata": {
        "id": "ZuHxPQhJVHvr",
        "outputId": "2594a34b-5a0c-4a7c-c4a6-02c8a9f6996c",
        "colab": {
          "base_uri": "https://localhost:8080/"
        }
      },
      "source": [
        "salario_co = float(input(\"Digite o salário do colaborador: \"))\n",
        "print(\"Esse é o salário antes do reajuste: = {0:.2f}\" .format(salario_co))\n",
        "if 0 <= salario_co <= 280.00:\n",
        "  valoratualizado = salario_co * 0.2\n",
        "  print(\"Percentual aplicado é de 20%\")\n",
        "  print(\"Esse á o valor do aumento: = {0:.2f}\".format(valoratualizado))\n",
        "  print(\"Esse é o salário após aumento: = {0:.2f} \" .format(valoratualizado + salario_co))\n",
        "elif 280.00 <= salario_co <= 700.00:\n",
        "  valoratualizado = salario_co * 0.15\n",
        "  print(\"Percentual aplicado é de 15%\")\n",
        "  print(\"Esse á o valor do aumento: = {0:.2f}\".format(valoratualizado))\n",
        "  print(\"Esse é o salário após aumento: = {0:.2f} \" .format(valoratualizado + salario_co))\n",
        "elif 700.00 <= salario_co <= 1500.00:\n",
        "  valoratualizado = salario_co * 0.10\n",
        "  print(\"Percentual aplicado é de 10%\")\n",
        "  print(\"Esse á o valor do aumento: = {0:.2f}\".format(valoratualizado))\n",
        "  print(\"Esse é o salário após aumento: = {0:.2f} \" .format(valoratualizado + salario_co))\n",
        "else:\n",
        "  valoratualizado = salario_co * 0.05\n",
        "  print(\"Percentual aplicado é de 5%\")\n",
        "  print(\"Esse á o valor do aumento: = {0:.2f}\".format(valoratualizado))\n",
        "  print(\"Esse é o salário após aumento: = {0:.2f} \" .format(valoratualizado + salario_co))\n",
        " "
      ],
      "execution_count": 34,
      "outputs": [
        {
          "output_type": "stream",
          "text": [
            "Digite o salário do colaborador: 15000000\n",
            "Esse é o salário antes do reajuste: = 15000000.00\n",
            "Percentual aplicado é de 5%\n",
            "Esse á o valor do aumento: = 750000.00\n",
            "Esse é o salário após aumento: = 15750000.00 \n"
          ],
          "name": "stdout"
        }
      ]
    }
  ]
}