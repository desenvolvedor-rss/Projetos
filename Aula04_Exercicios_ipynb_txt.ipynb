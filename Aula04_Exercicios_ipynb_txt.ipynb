{
  "nbformat": 4,
  "nbformat_minor": 0,
  "metadata": {
    "colab": {
      "name": "Aula04_Exercicios.ipynb.txt",
      "provenance": [],
      "collapsed_sections": [],
      "include_colab_link": true
    },
    "kernelspec": {
      "name": "python3",
      "display_name": "Python 3"
    },
    "language_info": {
      "name": "python"
    }
  },
  "cells": [
    {
      "cell_type": "markdown",
      "metadata": {
        "id": "view-in-github",
        "colab_type": "text"
      },
      "source": [
        "<a href=\"https://colab.research.google.com/github/coke-leste1/Projetos/blob/main/Aula04_Exercicios_ipynb_txt.ipynb\" target=\"_parent\"><img src=\"https://colab.research.google.com/assets/colab-badge.svg\" alt=\"Open In Colab\"/></a>"
      ]
    },
    {
      "cell_type": "markdown",
      "metadata": {
        "id": "DptQTkwqN7v9"
      },
      "source": [
        "# Exercícios de Aquecimento\n",
        "\n",
        "## Exercício 01\n",
        "Elabore um programa que imprima na tela a seguinte frase `Olá Mundo! Esse é o meu primeiro programa`"
      ]
    },
    {
      "cell_type": "code",
      "metadata": {
        "id": "fu-Hvxg7OT64",
        "colab": {
          "base_uri": "https://localhost:8080/"
        },
        "outputId": "cd1c9f32-7b39-48d5-926e-1fc792c6e462"
      },
      "source": [
        "print (\"Olá Mundo! Esse é o meu primeiro programa\")"
      ],
      "execution_count": 1,
      "outputs": [
        {
          "output_type": "stream",
          "text": [
            "Olá Mundo! Esse é o meu primeiro programa\n"
          ],
          "name": "stdout"
        }
      ]
    },
    {
      "cell_type": "markdown",
      "metadata": {
        "id": "HYnPLbl2OfuE"
      },
      "source": [
        "## Exercício 02\n",
        "Elabore um programa que escreve seu nome completo na primeira linha, seu endereço na segunda e o CEP e telefone na terceira.  \n",
        "\n",
        "**Exemplo:**\n",
        "```\n",
        "Nome: Bruno Fabri\n",
        "Endereço: Rua ABC\n",
        "CEP: 002220-010\n",
        "```"
      ]
    },
    {
      "cell_type": "code",
      "metadata": {
        "id": "sUrmuOzbO5Cd",
        "colab": {
          "base_uri": "https://localhost:8080/"
        },
        "outputId": "8462f261-3a10-4d41-ea0f-ebdf4b86de14"
      },
      "source": [
        "# Procedimentos para quebra de linha \\n ou ''' antes de depois - Comando print pode pular linha se digitado sem valor\n",
        "\n",
        "print (\"Bruno Fabri\\nRua ABC\\n002220-010 \")\n",
        "print ('''Bruno Fabri\n",
        "Rua ABC\n",
        "002220-010''')\n"
      ],
      "execution_count": 6,
      "outputs": [
        {
          "output_type": "stream",
          "text": [
            "Bruno Fabri\n",
            "Rua ABC\n",
            "002220-010 \n",
            "Bruno Fabri\n",
            "Rua ABC\n",
            "002220-010\n"
          ],
          "name": "stdout"
        }
      ]
    },
    {
      "cell_type": "markdown",
      "metadata": {
        "id": "deXHRhdZ3sOX"
      },
      "source": [
        ""
      ]
    },
    {
      "cell_type": "markdown",
      "metadata": {
        "id": "5XVY0cvwP1WX"
      },
      "source": [
        "## Exercício 03\n",
        "Elabore um programa que recebe o nome de uma pessoa do terminal e mostra a seguinte mensagem: `Olá {nome}! Seja bem vindo ao fantástico mundo da programação`"
      ]
    },
    {
      "cell_type": "code",
      "metadata": {
        "id": "VDfwe6OSQM0M",
        "colab": {
          "base_uri": "https://localhost:8080/",
          "height": 265
        },
        "outputId": "df539358-d3a1-4654-cd91-b8901c2fb050"
      },
      "source": [
        "# exemplo de utilização do comando input e concatenação\n",
        "\n",
        "nome = input(\"Digite seu nome\")\n",
        "print (\"Olá\", nome, \"Seja bem vindo ao fantástico mundo da programação\")\n",
        "print (f\"Olá {nome}! Seja bem vindo ao fantástico mundo da programação\")\n",
        "\n",
        "print (\"Olá {}! Seja bem vindo ao fantástico mundo da programação\".replace(\"{}\"))\n",
        "\n"
      ],
      "execution_count": 18,
      "outputs": [
        {
          "output_type": "stream",
          "text": [
            "Digite seu nomeRicardo\n",
            "Olá Ricardo Seja bem vindo ao fantástico mundo da programação\n",
            "Olá Ricardo! Seja bem vindo ao fantástico mundo da programação\n"
          ],
          "name": "stdout"
        },
        {
          "output_type": "error",
          "ename": "TypeError",
          "evalue": "ignored",
          "traceback": [
            "\u001b[0;31m---------------------------------------------------------------------------\u001b[0m",
            "\u001b[0;31mTypeError\u001b[0m                                 Traceback (most recent call last)",
            "\u001b[0;32m<ipython-input-18-dd8f7d91e0bf>\u001b[0m in \u001b[0;36m<module>\u001b[0;34m()\u001b[0m\n\u001b[1;32m      5\u001b[0m \u001b[0mprint\u001b[0m \u001b[0;34m(\u001b[0m\u001b[0;34mf\"Olá {nome}! Seja bem vindo ao fantástico mundo da programação\"\u001b[0m\u001b[0;34m)\u001b[0m\u001b[0;34m\u001b[0m\u001b[0;34m\u001b[0m\u001b[0m\n\u001b[1;32m      6\u001b[0m \u001b[0;34m\u001b[0m\u001b[0m\n\u001b[0;32m----> 7\u001b[0;31m \u001b[0mprint\u001b[0m \u001b[0;34m(\u001b[0m\u001b[0;34m\"Olá {}! Seja bem vindo ao fantástico mundo da programação\"\u001b[0m\u001b[0;34m.\u001b[0m\u001b[0mreplace\u001b[0m\u001b[0;34m(\u001b[0m\u001b[0;34m\"{}\"\u001b[0m\u001b[0;34m)\u001b[0m\u001b[0;34m)\u001b[0m\u001b[0;34m\u001b[0m\u001b[0;34m\u001b[0m\u001b[0m\n\u001b[0m\u001b[1;32m      8\u001b[0m \u001b[0;34m\u001b[0m\u001b[0m\n",
            "\u001b[0;31mTypeError\u001b[0m: replace() takes at least 2 arguments (1 given)"
          ]
        }
      ]
    },
    {
      "cell_type": "markdown",
      "metadata": {
        "id": "1Nb29agVQc3k"
      },
      "source": [
        "## Exercício 04\n",
        "Elabore um programa que recebe dois valores inteiros e mostra a soma desses valores\n",
        "\n",
        "**Exemplo:**\n",
        "\n",
        "```\n",
        "Primeiro Valor = 2\n",
        "Segundo Valor = 3\n",
        "Soma = 5\n",
        "```"
      ]
    },
    {
      "cell_type": "code",
      "metadata": {
        "id": "a6_BwVwRROmH",
        "colab": {
          "base_uri": "https://localhost:8080/"
        },
        "outputId": "3ca0cae4-6211-461a-a3ce-e95d75d905a9"
      },
      "source": [
        "# uso da variavel int e float \"float(input(\"Digite o primeiro valor:\"))\"\n",
        "\n",
        "numero1 = float(input(\"Digite o primeiro valor:\"))\n",
        "numero2 = float(input(\"Digite o segundo valor:\"))\n",
        "soma = numero1 + numero2\n",
        "print (\"Soma =\", soma)\n"
      ],
      "execution_count": 22,
      "outputs": [
        {
          "output_type": "stream",
          "text": [
            "Digite o primeiro valor:2\n",
            "Digite o segundo valor:3\n",
            "Soma = 5.0\n"
          ],
          "name": "stdout"
        }
      ]
    },
    {
      "cell_type": "markdown",
      "metadata": {
        "id": "4HQxR3FTTbSr"
      },
      "source": [
        "## Exercício 05\n",
        "Elabore um programa que recebe dois valores inteiros e mostra se o primeiro valor é maior ou igual ao segundo valor\n",
        "\n",
        "**Exemplo:**\n",
        "```\n",
        "Primeiro Valor = 3\n",
        "Segundo Valor = 2\n",
        "Resultado = True\n",
        "```"
      ]
    },
    {
      "cell_type": "code",
      "metadata": {
        "id": "OXISQASdTeSW",
        "colab": {
          "base_uri": "https://localhost:8080/"
        },
        "outputId": "63e0c232-4d6f-45d2-d187-e3c7fa9bd744"
      },
      "source": [
        "#Comparação de valores com \n",
        "\n",
        "numero1 = int(input(\"Digite o primeiro valor:\"))\n",
        "numero2 = int(input(\"Digite o segundo valor:\"))\n",
        "print(numero1 >= numero2)\n",
        "print(numero1 < numero2)\n",
        "print(numero1 != numero2)\n",
        "print(numero1 == numero2)\n"
      ],
      "execution_count": 24,
      "outputs": [
        {
          "output_type": "stream",
          "text": [
            "Digite o primeiro valor:23\n",
            "Digite o segundo valor:23\n",
            "True\n",
            "False\n",
            "False\n",
            "True\n"
          ],
          "name": "stdout"
        }
      ]
    },
    {
      "cell_type": "markdown",
      "metadata": {
        "id": "Gn8rHPn3UCnc"
      },
      "source": [
        "## Exercício 06\n",
        "Elabore um programa que recebe o seu nome, endereço e hobby e mostra cada uma das informações da seguinte forma:\n",
        "- Nome -> Letra maiúscula\n",
        "- Endereço -> Letra minúscula\n",
        "- Hobby -> Primeira letra maiúscula\n",
        "\n",
        "**Exemplo Entrada:**\n",
        "```\n",
        "Nome: bruno fabri\n",
        "Endereço: Rua ABC\n",
        "Hobby: jogar cs\n",
        "```\n",
        "\n",
        "**Exemplo Saída:**\n",
        "```\n",
        "Nome: BRUNO FABRI\n",
        "Endereço: rua abc\n",
        "Hobby: Jogar cs\n",
        "```"
      ]
    },
    {
      "cell_type": "code",
      "metadata": {
        "id": "ZIj-PGVZVVP6",
        "colab": {
          "base_uri": "https://localhost:8080/"
        },
        "outputId": "accda5bb-f974-4861-c55a-720c5ad9134a"
      },
      "source": [
        "nome = input(\"Digite seu nome: \")\n",
        "endereco = input(\"Digite seu endereço: \")\n",
        "hobby = input(\"Digite seu hobby: \")\n",
        "print(nome.upper())\n",
        "print(nome.lower())\n",
        "print(nome.title())\n",
        "print(nome.capitalize())\n",
        "\n",
        "\n",
        "nome = input('Digite seu nome').upper().lower #outra forma de inserir upper\n"
      ],
      "execution_count": 25,
      "outputs": [
        {
          "output_type": "stream",
          "text": [
            "Digite seu nomeRicardo\n",
            "Digite seu endereçoRua ta\n",
            "Digite seu hobbyCinemo\n",
            "RICARDO\n",
            "ricardo\n",
            "Ricardo\n",
            "Ricardo\n"
          ],
          "name": "stdout"
        }
      ]
    },
    {
      "cell_type": "markdown",
      "metadata": {
        "id": "wlvmEAPQNrcL"
      },
      "source": [
        "# Mini Projetos"
      ]
    },
    {
      "cell_type": "markdown",
      "metadata": {
        "id": "W8zwueNBKh4B"
      },
      "source": [
        ""
      ]
    },
    {
      "cell_type": "code",
      "metadata": {
        "id": "mRQ9fpIgMp5Z",
        "colab": {
          "base_uri": "https://localhost:8080/"
        },
        "outputId": "27dd7e75-3355-4cbd-ac03-d0f01693fa16"
      },
      "source": [
        "\n",
        "\n",
        "valorDolar = float(input(\"Digite valor do Real:\"))\n",
        "valorReal = float(\"5.75\")\n",
        "resultado = valorDolar / valorReal\n",
        "print(\"valor em $: {0:.2f}\".format(resultado))\n",
        "\n",
        "\n",
        "\n",
        "\n",
        "valorReal = float(input(\"Digite valor do Dolar:\"))\n",
        "valorDolar = float(\"5.75\")\n",
        "resultado = valorReal * valorDolar\n",
        "print(\"valor em $: {0:.2f}\".format(resultado))\n"
      ],
      "execution_count": 38,
      "outputs": [
        {
          "output_type": "stream",
          "text": [
            "Digite valor do Real:1000\n",
            "valor em $: 173.91\n",
            "Digite valor do Dolar:1000\n",
            "valor em $: 5750.00\n"
          ],
          "name": "stdout"
        }
      ]
    },
    {
      "cell_type": "markdown",
      "metadata": {
        "id": "0NmAiF2DV_ju"
      },
      "source": [
        "## Mini Projeto 02 - Calculadora de aumento de aluguel\n",
        "Vamos construir um programa que irá calcular o aumento anual do seu aluguel em duas partes:\n",
        "\n",
        "### Parte 1\n",
        "A sua calculadora vai receber o `valor do aluguel` e calcular o aumento baseado no `IGPM de 31%`. A calculadora deve apresentar o aluguel reajustado no formato `R$ XXXX.XX`\n",
        "\n",
        "**Exemplo:**\n",
        "```\n",
        "Valor do aluguel = 1000\n",
        "Valor do aluguel reajustado = R$ 1310,00\n",
        "```\n",
        "\n",
        "### Parte 2\n",
        "Agora, altere sua calculadora para receber além do `valor do aluguel`, o percentual do reajuste no formato `XX%`.  \n",
        "\n",
        "**Dica:** Descubra uma forma de transformar o percentual recebido em um número para efetuar o cálculo.\n",
        "\n",
        "**Exemplo:**\n",
        "```\n",
        "Valor do aluguel = 1000\n",
        "Percentual do reajuste = 31%\n",
        "Valor do aluguel reajustado = R% 1310,00\n",
        "```"
      ]
    },
    {
      "cell_type": "code",
      "metadata": {
        "id": "0eHzSCyaGkYJ",
        "colab": {
          "base_uri": "https://localhost:8080/"
        },
        "outputId": "362f86b0-b5eb-4c32-e9d3-d3f7610e1dc9"
      },
      "source": [
        "valorAluguel = float(input(\"Digite o valor do aluguel: \"))\n",
        "percentual = float(0.31)\n",
        "resultado = valorAluguel * percentual\n",
        "print(\"Resultado:\", resultado + valorAluguel)\n",
        "\n",
        "valorAluguel = float(input(\"Digite o valor do aluguel: \"))\n",
        "valorPercentual = float(input(\"Digite o Percentual: \"))\n",
        "resultado = valorAluguel + (valorAluguel * (valorPercentual /100) )\n",
        "print(\"Resultado: = {0:.2f}\" .format(resultado))\n",
        "\n",
        "\n",
        "\n"
      ],
      "execution_count": 50,
      "outputs": [
        {
          "output_type": "stream",
          "text": [
            "Digite o valor do aluguel: 1000\n",
            "Resultado: 1310.0\n",
            "Digite o valor do aluguel: 1000\n",
            "Digite o Percentual: 31\n",
            "Resultado: = 1310.00\n"
          ],
          "name": "stdout"
        }
      ]
    },
    {
      "cell_type": "markdown",
      "metadata": {
        "id": "xN88sUuMOG46"
      },
      "source": [
        "## Mini Projeto 03 - Calculadora de dano\n",
        "Vamos implementar a calculadora de dano de RPG!!\n",
        "\n",
        "### Parte 1\n",
        "O programa vai receber a `vida e um monstro (entre 10 e 50)` e o `valor do ataque do jogador por turno (entre 5 e 10)`\n",
        "\n",
        "Baseado nos valores, exiba a quantidade de turnos que o jogador irá demorar para conseguir derrotar o monstro.\n",
        "\n",
        "**Exemplo:**\n",
        "```\n",
        "Vida de um monstro (entre 10 e 50): 26\n",
        "Valor do ataque do jogador por turno (entre 5 e 10): 5\n",
        "Resultado: O jogador irá precisar de 6 turnos para derrotar o monstro.\n",
        "```\n",
        "\n",
        "### Parte 2\n",
        "Altere o programa para ao invés de receber a vida do monstro, gerar aleatoriamente um valor entre 10 e 50."
      ]
    },
    {
      "cell_type": "code",
      "metadata": {
        "id": "Mrpz9UomQH2P",
        "colab": {
          "base_uri": "https://localhost:8080/"
        },
        "outputId": "8b767c14-4d17-4eb2-d0f3-ab2d987bf535"
      },
      "source": [
        "vidaMonstro = int(input(\"Digite a vide do monsrto de 10 a 50: \"))\n",
        "valorAtaque = int(input(\"Digite o valor do ataque entre 5 e 10: \"))"
      ],
      "execution_count": 52,
      "outputs": [
        {
          "output_type": "stream",
          "text": [
            "Digite a vide do monsrto de 10 a 5012\n",
            "Digite o valor do ataque entre 5 e 1050\n"
          ],
          "name": "stdout"
        }
      ]
    }
  ]
}